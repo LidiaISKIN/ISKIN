{
  "nbformat": 4,
  "nbformat_minor": 0,
  "metadata": {
    "kernelspec": {
      "display_name": "Python 3",
      "language": "python",
      "name": "python3"
    },
    "language_info": {
      "codemirror_mode": {
        "name": "ipython",
        "version": 3
      },
      "file_extension": ".py",
      "mimetype": "text/x-python",
      "name": "python",
      "nbconvert_exporter": "python",
      "pygments_lexer": "ipython3",
      "version": "3.7.6"
    },
    "colab": {
      "name": "MDPI_Vitkova_Chechulin_Kotenko",
      "provenance": [],
      "collapsed_sections": [],
      "include_colab_link": true
    }
  },
  "cells": [
    {
      "cell_type": "markdown",
      "metadata": {
        "id": "view-in-github",
        "colab_type": "text"
      },
      "source": [
        "<a href=\"https://colab.research.google.com/github/LidiaISKIN/ISKIN/blob/master/MDPI_Vitkova_Chechulin_Kotenko.ipynb\" target=\"_parent\"><img src=\"https://colab.research.google.com/assets/colab-badge.svg\" alt=\"Open In Colab\"/></a>"
      ]
    },
    {
      "cell_type": "code",
      "metadata": {
        "id": "MKdFg-Z6EWDs"
      },
      "source": [
        "import numpy as np\n",
        "import pandas as pd\n",
        "from sklearn import preprocessing"
      ],
      "execution_count": null,
      "outputs": []
    },
    {
      "cell_type": "markdown",
      "metadata": {
        "id": "FP2NVIZudsbs"
      },
      "source": [
        "The data sets are located at: https://www.kaggle.com/lidiaiskin/sources-of-information-in-social-network-vk-2021"
      ]
    },
    {
      "cell_type": "code",
      "metadata": {
        "id": "LcCoHiGXEWDu"
      },
      "source": [
        "DF = pd.read_csv('./DF_june.csv', sep= ';')"
      ],
      "execution_count": null,
      "outputs": []
    },
    {
      "cell_type": "code",
      "metadata": {
        "id": "3ST-eSJFEWDu",
        "outputId": "5319f23c-7687-40e7-f1b0-b2724b0fb89c"
      },
      "source": [
        "DF.head(10)"
      ],
      "execution_count": null,
      "outputs": [
        {
          "data": {
            "text/html": [
              "<div>\n",
              "<style scoped>\n",
              "    .dataframe tbody tr th:only-of-type {\n",
              "        vertical-align: middle;\n",
              "    }\n",
              "\n",
              "    .dataframe tbody tr th {\n",
              "        vertical-align: top;\n",
              "    }\n",
              "\n",
              "    .dataframe thead th {\n",
              "        text-align: right;\n",
              "    }\n",
              "</style>\n",
              "<table border=\"1\" class=\"dataframe\">\n",
              "  <thead>\n",
              "    <tr style=\"text-align: right;\">\n",
              "      <th></th>\n",
              "      <th>Source</th>\n",
              "      <th>Post</th>\n",
              "      <th>ID ath</th>\n",
              "      <th>Data</th>\n",
              "      <th>type</th>\n",
              "      <th>like</th>\n",
              "      <th>comm</th>\n",
              "      <th>reposts</th>\n",
              "      <th>views</th>\n",
              "    </tr>\n",
              "  </thead>\n",
              "  <tbody>\n",
              "    <tr>\n",
              "      <th>0</th>\n",
              "      <td>-10174752</td>\n",
              "      <td>-10174752</td>\n",
              "      <td>-10174752</td>\n",
              "      <td>1622953721</td>\n",
              "      <td>1</td>\n",
              "      <td>5</td>\n",
              "      <td>0</td>\n",
              "      <td>0</td>\n",
              "      <td>566</td>\n",
              "    </tr>\n",
              "    <tr>\n",
              "      <th>1</th>\n",
              "      <td>-101762028</td>\n",
              "      <td>-101762028</td>\n",
              "      <td>-101762028</td>\n",
              "      <td>1624454958</td>\n",
              "      <td>1</td>\n",
              "      <td>16</td>\n",
              "      <td>0</td>\n",
              "      <td>2</td>\n",
              "      <td>612</td>\n",
              "    </tr>\n",
              "    <tr>\n",
              "      <th>2</th>\n",
              "      <td>2658939</td>\n",
              "      <td>-101373101</td>\n",
              "      <td>572362949</td>\n",
              "      <td>1623741748</td>\n",
              "      <td>0,5</td>\n",
              "      <td>4</td>\n",
              "      <td>0</td>\n",
              "      <td>0</td>\n",
              "      <td>0</td>\n",
              "    </tr>\n",
              "    <tr>\n",
              "      <th>3</th>\n",
              "      <td>-101373101</td>\n",
              "      <td>-101373101</td>\n",
              "      <td>-101373101</td>\n",
              "      <td>1623738600</td>\n",
              "      <td>1</td>\n",
              "      <td>193</td>\n",
              "      <td>14</td>\n",
              "      <td>18</td>\n",
              "      <td>4401</td>\n",
              "    </tr>\n",
              "    <tr>\n",
              "      <th>4</th>\n",
              "      <td>-101443126</td>\n",
              "      <td>-101443126</td>\n",
              "      <td>-101443126</td>\n",
              "      <td>1624939272</td>\n",
              "      <td>1</td>\n",
              "      <td>12</td>\n",
              "      <td>0</td>\n",
              "      <td>2</td>\n",
              "      <td>1307</td>\n",
              "    </tr>\n",
              "    <tr>\n",
              "      <th>5</th>\n",
              "      <td>-101555177</td>\n",
              "      <td>-101555177</td>\n",
              "      <td>-101555177</td>\n",
              "      <td>1623917621</td>\n",
              "      <td>1</td>\n",
              "      <td>118</td>\n",
              "      <td>11</td>\n",
              "      <td>14</td>\n",
              "      <td>9935</td>\n",
              "    </tr>\n",
              "    <tr>\n",
              "      <th>6</th>\n",
              "      <td>456500</td>\n",
              "      <td>-101555177</td>\n",
              "      <td>30637949</td>\n",
              "      <td>1624879701</td>\n",
              "      <td>0,5</td>\n",
              "      <td>1</td>\n",
              "      <td>0</td>\n",
              "      <td>0</td>\n",
              "      <td>0</td>\n",
              "    </tr>\n",
              "    <tr>\n",
              "      <th>7</th>\n",
              "      <td>-101555177</td>\n",
              "      <td>-101555177</td>\n",
              "      <td>-101555177</td>\n",
              "      <td>1624818610</td>\n",
              "      <td>1</td>\n",
              "      <td>552</td>\n",
              "      <td>45</td>\n",
              "      <td>36</td>\n",
              "      <td>17096</td>\n",
              "    </tr>\n",
              "    <tr>\n",
              "      <th>8</th>\n",
              "      <td>-106770162</td>\n",
              "      <td>-106770162</td>\n",
              "      <td>-106770162</td>\n",
              "      <td>1622562270</td>\n",
              "      <td>1</td>\n",
              "      <td>2</td>\n",
              "      <td>0</td>\n",
              "      <td>1</td>\n",
              "      <td>98</td>\n",
              "    </tr>\n",
              "    <tr>\n",
              "      <th>9</th>\n",
              "      <td>-101982925</td>\n",
              "      <td>-101982925</td>\n",
              "      <td>-101982925</td>\n",
              "      <td>1623265468</td>\n",
              "      <td>1</td>\n",
              "      <td>288</td>\n",
              "      <td>69</td>\n",
              "      <td>109</td>\n",
              "      <td>50157</td>\n",
              "    </tr>\n",
              "  </tbody>\n",
              "</table>\n",
              "</div>"
            ],
            "text/plain": [
              "      Source       Post     ID ath        Data type  like  comm  reposts  \\\n",
              "0  -10174752  -10174752  -10174752  1622953721    1     5     0        0   \n",
              "1 -101762028 -101762028 -101762028  1624454958    1    16     0        2   \n",
              "2    2658939 -101373101  572362949  1623741748  0,5     4     0        0   \n",
              "3 -101373101 -101373101 -101373101  1623738600    1   193    14       18   \n",
              "4 -101443126 -101443126 -101443126  1624939272    1    12     0        2   \n",
              "5 -101555177 -101555177 -101555177  1623917621    1   118    11       14   \n",
              "6     456500 -101555177   30637949  1624879701  0,5     1     0        0   \n",
              "7 -101555177 -101555177 -101555177  1624818610    1   552    45       36   \n",
              "8 -106770162 -106770162 -106770162  1622562270    1     2     0        1   \n",
              "9 -101982925 -101982925 -101982925  1623265468    1   288    69      109   \n",
              "\n",
              "   views  \n",
              "0    566  \n",
              "1    612  \n",
              "2      0  \n",
              "3   4401  \n",
              "4   1307  \n",
              "5   9935  \n",
              "6      0  \n",
              "7  17096  \n",
              "8     98  \n",
              "9  50157  "
            ]
          },
          "execution_count": 3,
          "metadata": {},
          "output_type": "execute_result"
        }
      ]
    },
    {
      "cell_type": "code",
      "metadata": {
        "id": "PK_fzNA4EWDv",
        "outputId": "5db6ea57-c21d-4b38-b1fa-7f071d4fce1f"
      },
      "source": [
        "DF.columns"
      ],
      "execution_count": null,
      "outputs": [
        {
          "data": {
            "text/plain": [
              "Index(['Source', 'Post', 'ID ath', 'Data', 'type', 'like', 'comm', 'reposts',\n",
              "       'views'],\n",
              "      dtype='object')"
            ]
          },
          "execution_count": 5,
          "metadata": {},
          "output_type": "execute_result"
        }
      ]
    },
    {
      "cell_type": "code",
      "metadata": {
        "id": "jPJaxSbvEWDv",
        "outputId": "36f61122-261b-42e5-c144-203a3b596a27"
      },
      "source": [
        "DF.loc[:, ['Source', 'Post', 'ID ath', 'Data', 'type', 'like', 'comm', 'reposts',\n",
        "       'views']].head(10)"
      ],
      "execution_count": null,
      "outputs": [
        {
          "data": {
            "text/html": [
              "<div>\n",
              "<style scoped>\n",
              "    .dataframe tbody tr th:only-of-type {\n",
              "        vertical-align: middle;\n",
              "    }\n",
              "\n",
              "    .dataframe tbody tr th {\n",
              "        vertical-align: top;\n",
              "    }\n",
              "\n",
              "    .dataframe thead th {\n",
              "        text-align: right;\n",
              "    }\n",
              "</style>\n",
              "<table border=\"1\" class=\"dataframe\">\n",
              "  <thead>\n",
              "    <tr style=\"text-align: right;\">\n",
              "      <th></th>\n",
              "      <th>Source</th>\n",
              "      <th>Post</th>\n",
              "      <th>ID ath</th>\n",
              "      <th>Data</th>\n",
              "      <th>type</th>\n",
              "      <th>like</th>\n",
              "      <th>comm</th>\n",
              "      <th>reposts</th>\n",
              "      <th>views</th>\n",
              "    </tr>\n",
              "  </thead>\n",
              "  <tbody>\n",
              "    <tr>\n",
              "      <th>0</th>\n",
              "      <td>-10174752</td>\n",
              "      <td>-10174752</td>\n",
              "      <td>-10174752</td>\n",
              "      <td>1622953721</td>\n",
              "      <td>1</td>\n",
              "      <td>5</td>\n",
              "      <td>0</td>\n",
              "      <td>0</td>\n",
              "      <td>566</td>\n",
              "    </tr>\n",
              "    <tr>\n",
              "      <th>1</th>\n",
              "      <td>-101762028</td>\n",
              "      <td>-101762028</td>\n",
              "      <td>-101762028</td>\n",
              "      <td>1624454958</td>\n",
              "      <td>1</td>\n",
              "      <td>16</td>\n",
              "      <td>0</td>\n",
              "      <td>2</td>\n",
              "      <td>612</td>\n",
              "    </tr>\n",
              "    <tr>\n",
              "      <th>2</th>\n",
              "      <td>2658939</td>\n",
              "      <td>-101373101</td>\n",
              "      <td>572362949</td>\n",
              "      <td>1623741748</td>\n",
              "      <td>0,5</td>\n",
              "      <td>4</td>\n",
              "      <td>0</td>\n",
              "      <td>0</td>\n",
              "      <td>0</td>\n",
              "    </tr>\n",
              "    <tr>\n",
              "      <th>3</th>\n",
              "      <td>-101373101</td>\n",
              "      <td>-101373101</td>\n",
              "      <td>-101373101</td>\n",
              "      <td>1623738600</td>\n",
              "      <td>1</td>\n",
              "      <td>193</td>\n",
              "      <td>14</td>\n",
              "      <td>18</td>\n",
              "      <td>4401</td>\n",
              "    </tr>\n",
              "    <tr>\n",
              "      <th>4</th>\n",
              "      <td>-101443126</td>\n",
              "      <td>-101443126</td>\n",
              "      <td>-101443126</td>\n",
              "      <td>1624939272</td>\n",
              "      <td>1</td>\n",
              "      <td>12</td>\n",
              "      <td>0</td>\n",
              "      <td>2</td>\n",
              "      <td>1307</td>\n",
              "    </tr>\n",
              "    <tr>\n",
              "      <th>5</th>\n",
              "      <td>-101555177</td>\n",
              "      <td>-101555177</td>\n",
              "      <td>-101555177</td>\n",
              "      <td>1623917621</td>\n",
              "      <td>1</td>\n",
              "      <td>118</td>\n",
              "      <td>11</td>\n",
              "      <td>14</td>\n",
              "      <td>9935</td>\n",
              "    </tr>\n",
              "    <tr>\n",
              "      <th>6</th>\n",
              "      <td>456500</td>\n",
              "      <td>-101555177</td>\n",
              "      <td>30637949</td>\n",
              "      <td>1624879701</td>\n",
              "      <td>0,5</td>\n",
              "      <td>1</td>\n",
              "      <td>0</td>\n",
              "      <td>0</td>\n",
              "      <td>0</td>\n",
              "    </tr>\n",
              "    <tr>\n",
              "      <th>7</th>\n",
              "      <td>-101555177</td>\n",
              "      <td>-101555177</td>\n",
              "      <td>-101555177</td>\n",
              "      <td>1624818610</td>\n",
              "      <td>1</td>\n",
              "      <td>552</td>\n",
              "      <td>45</td>\n",
              "      <td>36</td>\n",
              "      <td>17096</td>\n",
              "    </tr>\n",
              "    <tr>\n",
              "      <th>8</th>\n",
              "      <td>-106770162</td>\n",
              "      <td>-106770162</td>\n",
              "      <td>-106770162</td>\n",
              "      <td>1622562270</td>\n",
              "      <td>1</td>\n",
              "      <td>2</td>\n",
              "      <td>0</td>\n",
              "      <td>1</td>\n",
              "      <td>98</td>\n",
              "    </tr>\n",
              "    <tr>\n",
              "      <th>9</th>\n",
              "      <td>-101982925</td>\n",
              "      <td>-101982925</td>\n",
              "      <td>-101982925</td>\n",
              "      <td>1623265468</td>\n",
              "      <td>1</td>\n",
              "      <td>288</td>\n",
              "      <td>69</td>\n",
              "      <td>109</td>\n",
              "      <td>50157</td>\n",
              "    </tr>\n",
              "  </tbody>\n",
              "</table>\n",
              "</div>"
            ],
            "text/plain": [
              "      Source       Post     ID ath        Data type  like  comm  reposts  \\\n",
              "0  -10174752  -10174752  -10174752  1622953721    1     5     0        0   \n",
              "1 -101762028 -101762028 -101762028  1624454958    1    16     0        2   \n",
              "2    2658939 -101373101  572362949  1623741748  0,5     4     0        0   \n",
              "3 -101373101 -101373101 -101373101  1623738600    1   193    14       18   \n",
              "4 -101443126 -101443126 -101443126  1624939272    1    12     0        2   \n",
              "5 -101555177 -101555177 -101555177  1623917621    1   118    11       14   \n",
              "6     456500 -101555177   30637949  1624879701  0,5     1     0        0   \n",
              "7 -101555177 -101555177 -101555177  1624818610    1   552    45       36   \n",
              "8 -106770162 -106770162 -106770162  1622562270    1     2     0        1   \n",
              "9 -101982925 -101982925 -101982925  1623265468    1   288    69      109   \n",
              "\n",
              "   views  \n",
              "0    566  \n",
              "1    612  \n",
              "2      0  \n",
              "3   4401  \n",
              "4   1307  \n",
              "5   9935  \n",
              "6      0  \n",
              "7  17096  \n",
              "8     98  \n",
              "9  50157  "
            ]
          },
          "execution_count": 6,
          "metadata": {},
          "output_type": "execute_result"
        }
      ]
    },
    {
      "cell_type": "code",
      "metadata": {
        "id": "asTbSZNQEWDv"
      },
      "source": [
        "DF_out = pd.DataFrame({\n",
        "     'id_source': [ ],\n",
        "     'sum_url':[],\n",
        "     'potential_source':[],\n",
        "     'index_activ':[],\n",
        "     'index_view':[],\n",
        "     'impact_index':[]\n",
        "})"
      ],
      "execution_count": null,
      "outputs": []
    },
    {
      "cell_type": "markdown",
      "metadata": {
        "id": "4ezSz9p-EWDw"
      },
      "source": [
        "### The first algorithm. Calculation of the potential"
      ]
    },
    {
      "cell_type": "markdown",
      "metadata": {
        "id": "gAIfrz25EWDw"
      },
      "source": [
        "Calculate the sum of messages from one source and add a column source_count_mess (taking into account \"the type\") output as a separate list  \n",
        "source potential = 1 (low) if the number of messages in the list is less than the average  \n",
        "cut off those with low potential, calculate a new average  \n",
        "source potential = 3(high), if it has a number of messages above the second average  \n",
        "else source potential = 2(medium)  \n",
        "add the source potential columns to pd.DF- fill them from the list for each row"
      ]
    },
    {
      "cell_type": "code",
      "metadata": {
        "id": "rAQBROHhEWDw"
      },
      "source": [
        "Source= DF['Source'].tolist()\n",
        "Type= DF['type'].tolist()"
      ],
      "execution_count": null,
      "outputs": []
    },
    {
      "cell_type": "code",
      "metadata": {
        "id": "4uIScp7REWDx"
      },
      "source": [
        "Source_unic=set(Source)\n",
        "Source_unic=list(Source_unic)\n",
        "Source_poten=[0]*len(Source_unic)"
      ],
      "execution_count": null,
      "outputs": []
    },
    {
      "cell_type": "code",
      "metadata": {
        "id": "QNdzaClUEWDx"
      },
      "source": [
        "for i in range(len(Source_unic)):\n",
        "    for j in range(len(Source)):\n",
        "        if Source_unic[i]==Source[j]:\n",
        "            if Type[j]==1:\n",
        "                Source_poten[i]=Source_poten[i]+1\n",
        "            else:  Source_poten[i]=Source_poten[i]+0.5"
      ],
      "execution_count": null,
      "outputs": []
    },
    {
      "cell_type": "code",
      "metadata": {
        "id": "Y5jj_EnhEWDy"
      },
      "source": [
        "sr_source=np.mean(Source_poten)\n",
        "for i in range(len(Source_poten)):\n",
        "    if Source_poten[i]<sr_source:\n",
        "        Source_poten[i]=1"
      ],
      "execution_count": null,
      "outputs": []
    },
    {
      "cell_type": "code",
      "metadata": {
        "id": "HwZ5DxIBEWDy"
      },
      "source": [
        "Count=0\n",
        "Sum=0\n",
        "for i in range(len(Source_poten)):\n",
        "    if Source_poten[i]>1:\n",
        "        Count=Count+1\n",
        "        Sum=Sum+Source_poten[i]\n",
        "        sr_source=Sum/Count"
      ],
      "execution_count": null,
      "outputs": []
    },
    {
      "cell_type": "code",
      "metadata": {
        "id": "ICjYB_mDEWDy"
      },
      "source": [
        "for i in range(len(Source_poten)):\n",
        "    if Source_poten[i]>sr_source:\n",
        "        Source_poten[i]=3\n",
        "    if Source_poten[i]>1 and Source_poten[i]<3:\n",
        "        Source_poten[i]=2"
      ],
      "execution_count": null,
      "outputs": []
    },
    {
      "cell_type": "code",
      "metadata": {
        "id": "716pgd87EWDz"
      },
      "source": [
        "dictionary = dict(zip(Source_unic, Source_poten))"
      ],
      "execution_count": null,
      "outputs": []
    },
    {
      "cell_type": "markdown",
      "metadata": {
        "id": "kbOCfFO6EWDz"
      },
      "source": [
        "### The second algorithm. Calculation of the index of activity and viewability of the source"
      ]
    },
    {
      "cell_type": "markdown",
      "metadata": {
        "id": "zjhg3XqPEWDz"
      },
      "source": [
        "For the source, sum up all the likes was received for all sourse' messages, all comments, all reposts and divide by the number of messages. This is the source activity index\n",
        "For each source, sum up all the views to its messages and divide by the number of messages - it is the index of the source's viewability (viewing)\n",
        "Form a DF_source and keep the index= id_source in it, the columns are the source potential, the source activity index, the source viewability index  "
      ]
    },
    {
      "cell_type": "code",
      "metadata": {
        "id": "O-jkc7wkEWD0"
      },
      "source": [
        "Source_count_mess=[0]*len(Source_unic)\n",
        "for i in range(len(Source_unic)):\n",
        "    for j in range(len(Source)):\n",
        "        if Source_unic[i]==Source[j]:\n",
        "                Source_count_mess[i]=Source_count_mess[i]+1"
      ],
      "execution_count": null,
      "outputs": []
    },
    {
      "cell_type": "code",
      "metadata": {
        "id": "4amwhyovEWD0"
      },
      "source": [
        "Post= DF['Post'].tolist()\n",
        "Index_source=[0]*len(Source_unic)\n",
        "for i in range(len(Post)):\n",
        "    for j in range(len(Source_unic)):\n",
        "        if Source[i]==Source_unic[j]:\n",
        "            Index_source[j]=(Index_source[j]+DF['like'][i]+DF['comm'][i]+DF['reposts'][i])/Source_count_mess[j]\n",
        "dictionary = dict(zip(Source_unic,Index_source))"
      ],
      "execution_count": null,
      "outputs": []
    },
    {
      "cell_type": "code",
      "metadata": {
        "id": "e6G63zOsEWD1"
      },
      "source": [
        "View_source=[0]*len(Source_unic)\n",
        "for i in range(len(Source)):\n",
        "    for j in range(len(Source_unic)):\n",
        "        if Source[i]==Source_unic[j]:\n",
        "            View_source[j]=(View_source[j]+DF['views'][i])/Source_count_mess[j]\n",
        "dictionary1 = dict(zip(Source_unic,View_source))"
      ],
      "execution_count": null,
      "outputs": []
    },
    {
      "cell_type": "code",
      "metadata": {
        "id": "MHdRaJ33EWD1"
      },
      "source": [
        "DF_out_source = pd.DataFrame({\n",
        "     'id_source': [ ],\n",
        "     'sum_url':[],\n",
        "     'potential_source':[],\n",
        "     'index_activ':[],\n",
        "     'index_view':[],\n",
        "     \n",
        "})\n",
        "DF_out_source['id_source']=Source_unic\n",
        "DF_out_source['sum_url']= Source_count_mess\n",
        "DF_out_source['potential_source']=Source_poten\n",
        "DF_out_source['index_activ']=Index_source\n",
        "DF_out_source['index_view']=View_source\n",
        "\n",
        "DF_out_source.loc[:, ['id_source', 'sum_url', 'potential_source', 'index_activ', 'index_view']].head(10)"
      ],
      "execution_count": null,
      "outputs": []
    },
    {
      "cell_type": "markdown",
      "metadata": {
        "id": "jTP-U7ASEWD1"
      },
      "source": [
        "### The third algorithm. Calculation of the influence of the source"
      ]
    },
    {
      "cell_type": "markdown",
      "metadata": {
        "id": "6PuM5hweEWD1"
      },
      "source": [
        "For each source, we normalize all indexes in each dataframe"
      ]
    },
    {
      "cell_type": "code",
      "metadata": {
        "id": "2UGehUKSEWD2",
        "colab": {
          "base_uri": "https://localhost:8080/",
          "height": 214
        },
        "outputId": "dee50d44-1092-4556-d5d1-5aa8c682cf01"
      },
      "source": [
        "x_array = np.array(Index_source)\n",
        "Index_source1 = preprocessing.normalize([x_array])\n",
        "x_array = np.array(View_source)\n",
        "View_source1 = preprocessing.normalize([x_array])"
      ],
      "execution_count": 3,
      "outputs": [
        {
          "output_type": "error",
          "ename": "NameError",
          "evalue": "ignored",
          "traceback": [
            "\u001b[0;31m---------------------------------------------------------------------------\u001b[0m",
            "\u001b[0;31mNameError\u001b[0m                                 Traceback (most recent call last)",
            "\u001b[0;32m<ipython-input-3-706d4907ea7d>\u001b[0m in \u001b[0;36m<module>\u001b[0;34m()\u001b[0m\n\u001b[0;32m----> 1\u001b[0;31m \u001b[0mx_array\u001b[0m \u001b[0;34m=\u001b[0m \u001b[0mnp\u001b[0m\u001b[0;34m.\u001b[0m\u001b[0marray\u001b[0m\u001b[0;34m(\u001b[0m\u001b[0mIndex_source\u001b[0m\u001b[0;34m)\u001b[0m\u001b[0;34m\u001b[0m\u001b[0;34m\u001b[0m\u001b[0m\n\u001b[0m\u001b[1;32m      2\u001b[0m \u001b[0mIndex_source1\u001b[0m \u001b[0;34m=\u001b[0m \u001b[0mpreprocessing\u001b[0m\u001b[0;34m.\u001b[0m\u001b[0mnormalize\u001b[0m\u001b[0;34m(\u001b[0m\u001b[0;34m[\u001b[0m\u001b[0mx_array\u001b[0m\u001b[0;34m]\u001b[0m\u001b[0;34m)\u001b[0m\u001b[0;34m\u001b[0m\u001b[0;34m\u001b[0m\u001b[0m\n\u001b[1;32m      3\u001b[0m \u001b[0mx_array\u001b[0m \u001b[0;34m=\u001b[0m \u001b[0mnp\u001b[0m\u001b[0;34m.\u001b[0m\u001b[0marray\u001b[0m\u001b[0;34m(\u001b[0m\u001b[0mView_source\u001b[0m\u001b[0;34m)\u001b[0m\u001b[0;34m\u001b[0m\u001b[0;34m\u001b[0m\u001b[0m\n\u001b[1;32m      4\u001b[0m \u001b[0mView_source1\u001b[0m \u001b[0;34m=\u001b[0m \u001b[0mpreprocessing\u001b[0m\u001b[0;34m.\u001b[0m\u001b[0mnormalize\u001b[0m\u001b[0;34m(\u001b[0m\u001b[0;34m[\u001b[0m\u001b[0mx_array\u001b[0m\u001b[0;34m]\u001b[0m\u001b[0;34m)\u001b[0m\u001b[0;34m\u001b[0m\u001b[0;34m\u001b[0m\u001b[0m\n",
            "\u001b[0;31mNameError\u001b[0m: name 'Index_source' is not defined"
          ]
        }
      ]
    },
    {
      "cell_type": "code",
      "metadata": {
        "id": "gJdOz5gGEWD2"
      },
      "source": [
        "DF_out_source = pd.DataFrame({\n",
        "     'id_source': [ ],\n",
        "     'sum_url':[],\n",
        "     'potential_source':[],\n",
        "     'index_activ':[],\n",
        "     'index_view':[],\n",
        "     \n",
        "})\n",
        "DF_out_source['id_source']=Source_unic\n",
        "DF_out_source['sum_url']= Source_count_mess\n",
        "DF_out_source['potential_source']=Source_poten\n",
        "DF_out_source['index_activ']=Index_source1[0]\n",
        "DF_out_source['index_view']=View_source1[0]\n",
        "\n",
        "DF_out_source.loc[:, ['id_source', 'sum_url', 'potential_source', 'index_activ', 'index_view']].head(10)"
      ],
      "execution_count": null,
      "outputs": []
    },
    {
      "cell_type": "code",
      "metadata": {
        "id": "Yg279JDeEWD2"
      },
      "source": [
        "Influence=[0]*len(Source_unic)\n",
        "for i in range(len(Source_unic)):\n",
        "    Influence[i]=Index_source1[0][i]*Source_poten[i]\n",
        "DF_out_source['Influence'] = np.array(Influence)\n",
        "DF_out_source.loc[:, ['id_source', 'sum_url', 'potential_source', 'index_activ', 'index_view','Influence']].head(10)"
      ],
      "execution_count": null,
      "outputs": []
    },
    {
      "cell_type": "markdown",
      "metadata": {
        "id": "UuZ33R0kEWD3"
      },
      "source": [
        "Для расчета влиятельности источника мы перемножаем индекс активности источника, индекс просматриваемости, потенциал  \n",
        "Для расчета влиятельности автора мы перемножаем индекс активности источника, индекс просматриваемости, потенциал  \n",
        "Добавляем в выходные данные столбец с индексом влиятельности по каждой строке в каждый датафрейм  "
      ]
    },
    {
      "cell_type": "code",
      "metadata": {
        "id": "_2GZNIT6EWD3"
      },
      "source": [
        "Influence=[0]*len(Source_unic)\n",
        "for i in range(len(Source_unic)):\n",
        "    Influence[i]=Index_source1[0][i]*(Source_poten[i]+View_source1[0][i])\n",
        "DF_out_source['Influence'] = np.array(Influence)\n",
        "DF_out_source.loc[:, ['id_source', 'sum_url', 'potential_source', 'index_activ', 'index_view','Influence']].head(10)"
      ],
      "execution_count": null,
      "outputs": []
    },
    {
      "cell_type": "code",
      "metadata": {
        "id": "AMIEkrchEWD4"
      },
      "source": [
        "DF_out_source['id_source'] = DF_out_source['id_source'].astype(str)"
      ],
      "execution_count": null,
      "outputs": []
    },
    {
      "cell_type": "code",
      "metadata": {
        "id": "_jqvMWLdEWD4"
      },
      "source": [
        "import scipy.stats"
      ],
      "execution_count": null,
      "outputs": []
    },
    {
      "cell_type": "code",
      "metadata": {
        "id": "fZlXvftvEWD5"
      },
      "source": [
        "np.quantile(DF_out_source['Influence'], q=0.99)"
      ],
      "execution_count": null,
      "outputs": []
    },
    {
      "cell_type": "code",
      "metadata": {
        "id": "eWoPVdQqEWD5"
      },
      "source": [
        "DF_out_source['Influence'].value_counts().head(10)"
      ],
      "execution_count": null,
      "outputs": []
    },
    {
      "cell_type": "code",
      "metadata": {
        "id": "pRTylFNNEWD5"
      },
      "source": [
        "sorted_DF_out_source = DF_out_source.sort_values(by=['Influence' ], ascending=False)\n",
        "sorted_DF_out_source.head(10)"
      ],
      "execution_count": null,
      "outputs": []
    },
    {
      "cell_type": "code",
      "metadata": {
        "id": "baMwX0WxEWD5"
      },
      "source": [
        "DF_out_source.columns"
      ],
      "execution_count": null,
      "outputs": []
    },
    {
      "cell_type": "code",
      "metadata": {
        "id": "xAsh6M2EEWD5"
      },
      "source": [
        "import pickle"
      ],
      "execution_count": null,
      "outputs": []
    },
    {
      "cell_type": "code",
      "metadata": {
        "id": "8w2nDPGXEWD6"
      },
      "source": [
        "pickle.dump(DF_out_source, open('DF_out_source.pkl', 'wb'))\n",
        "pickle.dump(DF_out_ath, open('DF_out_ath.pkl', 'wb'))\n"
      ],
      "execution_count": null,
      "outputs": []
    },
    {
      "cell_type": "code",
      "metadata": {
        "id": "mKiyJQu-EWD6"
      },
      "source": [
        "DF_out_ath.to_csv('out_DF_june.csv')"
      ],
      "execution_count": null,
      "outputs": []
    },
    {
      "cell_type": "code",
      "metadata": {
        "id": "5MTWa_vzEWD6"
      },
      "source": [
        "DF_out_source.to_csv('out_DF_june_sour.csv')"
      ],
      "execution_count": null,
      "outputs": []
    },
    {
      "cell_type": "code",
      "metadata": {
        "id": "ouAyBQKzEWD6"
      },
      "source": [
        ""
      ],
      "execution_count": null,
      "outputs": []
    }
  ]
}